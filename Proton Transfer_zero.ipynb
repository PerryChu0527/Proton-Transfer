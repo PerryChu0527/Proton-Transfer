{
 "cells": [
  {
   "cell_type": "code",
   "execution_count": 1,
   "metadata": {},
   "outputs": [
    {
     "data": {
      "text/plain": [
       "(2.6659119093660326, 4.294371852602693)"
      ]
     },
     "execution_count": 1,
     "metadata": {},
     "output_type": "execute_result"
    }
   ],
   "source": [
    "###  carbon atoms in the aromatic ring \n",
    "import csv\n",
    "import pandas\n",
    "from scipy import ndimage\n",
    "import numpy\n",
    "\n",
    "carbon_center_masses = numpy.array([[ -1.627882, -2.436111, -0.924475, 12.011],\n",
    "[ -2.878809, -2.343260, -0.325467, 12.011],\n",
    "[ -3.529851, -1.111838, -0.207675, 12.011],\n",
    "[ -2.923866, 0.046476, -0.704561, 12.011],\n",
    "[ -1.659418, -0.046416, -1.291576, 12.011],\n",
    "[ -1.002619, -1.277875, -1.411598, 12.011]])\n",
    "\n",
    "p1 = ndimage.measurements.center_of_mass(carbon_center_masses)\n",
    "p1"
   ]
  },
  {
   "cell_type": "code",
   "execution_count": 2,
   "metadata": {},
   "outputs": [
    {
     "data": {
      "text/plain": [
       "(1.6293048043303382, -0.7623124677198772)"
      ]
     },
     "execution_count": 2,
     "metadata": {},
     "output_type": "execute_result"
    }
   ],
   "source": [
    "# hydrogen molecule of the solvent molecule\n",
    "#six NH2 in the solvent \n",
    "\n",
    "hydrogen_center_masses_one = numpy.array([[ 1.796453, 1.217126, -1.245395, 1.007],\n",
    "[ 1.180770, 1.702460, -2.687560, 1.007],\n",
    "[ 3.601927, 1.346692, -2.901408, 1.007],\n",
    "[ 2.677538, 0.170720, -3.860989, 1.007],\n",
    "[ 3.311804, -0.289685, -2.276831, 1.007]])\n",
    "\n",
    "p2 = ndimage.measurements.center_of_mass(hydrogen_center_masses_one)\n",
    "p2"
   ]
  },
  {
   "cell_type": "code",
   "execution_count": 3,
   "metadata": {},
   "outputs": [
    {
     "data": {
      "text/plain": [
       "(2.1313740066813347, 1.0668094011384783)"
      ]
     },
     "execution_count": 3,
     "metadata": {},
     "output_type": "execute_result"
    }
   ],
   "source": [
    "# hydrogen molecule of the solvent molecule\n",
    "#six NH2 in the solvent \n",
    "\n",
    "hydrogen_center_masses_two = numpy.array([[ 3.889159, 1.683413, 0.243319, 1.007],\n",
    "[ 3.092605, 0.235109, 0.255415, 1.007],\n",
    "[ 3.740270, 0.903893, 2.551857, 1.007],\n",
    "[ 2.001722, 0.715484, 2.278613, 1.007],\n",
    "[ 2.707716, 2.331438, 2.301554, 1.007]])\n",
    "\n",
    "p3 = ndimage.measurements.center_of_mass(hydrogen_center_masses_two)\n",
    "p3"
   ]
  },
  {
   "cell_type": "code",
   "execution_count": 4,
   "metadata": {},
   "outputs": [
    {
     "data": {
      "text/plain": [
       "(1.9608017843083956, 1.4752657100127415)"
      ]
     },
     "execution_count": 4,
     "metadata": {},
     "output_type": "execute_result"
    }
   ],
   "source": [
    "# hydrogen molecule of the solvent molecule\n",
    "#six NH2 in the solvent \n",
    "\n",
    "hydrogen_center_masses_three = numpy.array([[ -0.415930, 2.437163, 1.114332, 1.007],\n",
    "[ 1.104682, 2.463116, 0.471620, 1.007],\n",
    "[ -0.560966, 2.938749, -1.343776, 1.007],\n",
    "[ 0.517923, 4.298829, -0.989221, 1.007],\n",
    "[ -1.104131, 4.268040, -0.312865, 1.007]])\n",
    "\n",
    "p4 = ndimage.measurements.center_of_mass(hydrogen_center_masses_three)\n",
    "p4"
   ]
  },
  {
   "cell_type": "code",
   "execution_count": 5,
   "metadata": {},
   "outputs": [
    {
     "data": {
      "text/plain": [
       "(2.6314977419679146, 3.1769865510635196)"
      ]
     },
     "execution_count": 5,
     "metadata": {},
     "output_type": "execute_result"
    }
   ],
   "source": [
    "# hydrogen molecule of the solvent molecule\n",
    "#six NH2 in the solvent \n",
    "\n",
    "hydrogen_center_masses_four = numpy.array([[ -0.643251, -1.643763, 1.307689, 1.007],\n",
    "[ -0.321691, -0.078105, 1.579531, 1.007],\n",
    "[ -1.214584, -1.124703, 3.650077, 1.007],\n",
    "[ 0.447999, -0.527733, 3.815013, 1.007],\n",
    "[ 0.154890, -2.240234, 3.531112, 1.007]])\n",
    "\n",
    "p5 = ndimage.measurements.center_of_mass(hydrogen_center_masses_four)\n",
    "p5"
   ]
  },
  {
   "cell_type": "code",
   "execution_count": 10,
   "metadata": {},
   "outputs": [
    {
     "data": {
      "text/plain": [
       "(-8.706950303028357, 24.942072628651292)"
      ]
     },
     "execution_count": 10,
     "metadata": {},
     "output_type": "execute_result"
    }
   ],
   "source": [
    "# hydrogen molecule of the solvent molecule\n",
    "#six NH2 in the solvent \n",
    "\n",
    "hydrogen_center_masses_five = numpy.array([[ -1.916087, 1.238250, 3.270192, 1.007],\n",
    "[ -2.728885, 2.252196, 2.277581, 1.007],\n",
    "[ -4.446532, 1.376367, 0.072024, 1.007],\n",
    "[ -4.055445, 1.631645, -1.627872, 1.007],\n",
    "[ -2.935112, 2.184746, -0.385115, 1.007]])\n",
    "\n",
    "p6 = ndimage.measurements.center_of_mass(hydrogen_center_masses_five)\n",
    "p6"
   ]
  },
  {
   "cell_type": "code",
   "execution_count": 11,
   "metadata": {},
   "outputs": [
    {
     "data": {
      "text/plain": [
       "(2.6036984355461845, 0.7763202995601357)"
      ]
     },
     "execution_count": 11,
     "metadata": {},
     "output_type": "execute_result"
    }
   ],
   "source": [
    "# hydrogen molecule of the solvent molecule\n",
    "#six NH2 in the solvent \n",
    "\n",
    "hydrogen_center_masses_six = numpy.array([[ 2.047993, -2.042686, -0.720652, 1.007],\n",
    "[ 1.745155, -1.532785, 0.786314, 1.007],\n",
    "[ 2.876767, -3.731613, 0.894927, 1.007],\n",
    "[ 3.851653, -2.426654, 1.590544, 1.007],\n",
    "[ 4.188191, -2.994701, -0.042020, 1.007]])\n",
    "\n",
    "p7 = ndimage.measurements.center_of_mass(hydrogen_center_masses_six)\n",
    "p7"
   ]
  },
  {
   "cell_type": "code",
   "execution_count": 12,
   "metadata": {},
   "outputs": [
    {
     "name": "stdout",
     "output_type": "stream",
     "text": [
      "5.161841784247811\n",
      "3.2715271888688697\n",
      "2.9059490242685255\n",
      "1.1179151340837532\n",
      "23.57264393824643\n",
      "3.5186016037894774\n"
     ]
    }
   ],
   "source": [
    "# Distance between the center of mass of carbon atoms in the aromatic ring \n",
    "# and hydrogen molecule of the solvent molecule\n",
    "import math\n",
    "\n",
    "distance_one = math.sqrt( ((p1[0] - p2[0])**2) + ((p1[1] - p2[1])**2))\n",
    "distance_two = math.sqrt( ((p1[0] - p3[0])**2) + ((p1[1] - p3[1])**2))\n",
    "distance_three = math.sqrt( ((p1[0] - p4[0])**2) + ((p1[1] - p4[1])**2))\n",
    "distance_four = math.sqrt( ((p1[0] - p5[0])**2) + ((p1[1] - p5[1])**2))\n",
    "distance_five = math.sqrt( ((p1[0] - p6[0])**2) + ((p1[1] - p6[1])**2))\n",
    "distance_six = math.sqrt( ((p1[0] - p7[0])**2) + ((p1[1] - p7[1])**2))\n",
    "\n",
    "\n",
    "print(distance_one)\n",
    "print(distance_two)\n",
    "print(distance_three)\n",
    "print(distance_four)\n",
    "print(distance_five)\n",
    "print(distance_six)"
   ]
  },
  {
   "cell_type": "code",
   "execution_count": 13,
   "metadata": {},
   "outputs": [
    {
     "name": "stdout",
     "output_type": "stream",
     "text": [
      "Proton Transfer Form\n"
     ]
    }
   ],
   "source": [
    "### isomer shortest distance < 2.58 Å are PT form\n",
    "###  isomer shortest distance > 2.58 Å are the non-PT forms\n",
    "\n",
    "shortest_distance = min(distance_one,distance_two,distance_three,distance_four,distance_five,distance_six)\n",
    "\n",
    "if shortest_distance <= 2.58:\n",
    "    print('Proton Transfer Form')\n",
    "else:\n",
    "    print('Non - Proton Transfer Form')"
   ]
  }
 ],
 "metadata": {
  "kernelspec": {
   "display_name": "Python 3",
   "language": "python",
   "name": "python3"
  },
  "language_info": {
   "codemirror_mode": {
    "name": "ipython",
    "version": 3
   },
   "file_extension": ".py",
   "mimetype": "text/x-python",
   "name": "python",
   "nbconvert_exporter": "python",
   "pygments_lexer": "ipython3",
   "version": "3.7.3"
  }
 },
 "nbformat": 4,
 "nbformat_minor": 2
}

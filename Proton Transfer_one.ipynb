{
 "cells": [
  {
   "cell_type": "code",
   "execution_count": 81,
   "metadata": {},
   "outputs": [
    {
     "name": "stdout",
     "output_type": "stream",
     "text": [
      "C -2.878809 -2.343260 -0.325467\n",
      "\n"
     ]
    }
   ],
   "source": [
    "filename = \"n_6 (4).xyz\"\n",
    "xyz = open(filename, \"r\")\n",
    "xyz.readline()\n",
    "xyz.readline()\n",
    "xyz.readline()\n",
    "line = xyz.readline()\n",
    "print(line)\n",
    "\n",
    "xyz.close()"
   ]
  },
  {
   "cell_type": "code",
   "execution_count": 150,
   "metadata": {},
   "outputs": [
    {
     "data": {
      "text/plain": [
       "(2.4769730875310345, 4.497504957194897)"
      ]
     },
     "execution_count": 150,
     "metadata": {},
     "output_type": "execute_result"
    }
   ],
   "source": [
    "###  carbon atoms in the aromatic ring \n",
    "import csv\n",
    "import pandas\n",
    "from scipy import ndimage\n",
    "import numpy\n",
    "\n",
    "carbon_center_masses = numpy.array([[ -1.975007, -1.618979, 0.805457, 12.011],\n",
    "[ -3.359327, -1.745940, 0.826558, 12.011],\n",
    "[ -4.121979, -1.527171, -0.324255, 12.011],\n",
    "[ -3.460980, -1.192938, -1.508517, 12.011],\n",
    "[ -2.074651, -1.063603, -1.542233, 12.011],\n",
    "[ -1.282594, -1.263220, -0.380684, 12.011]])\n",
    "\n",
    "p1 = ndimage.measurements.center_of_mass(carbon_center_masses)\n",
    "p1"
   ]
  },
  {
   "cell_type": "code",
   "execution_count": 151,
   "metadata": {},
   "outputs": [
    {
     "data": {
      "text/plain": [
       "(2.3376276213493656, 0.5852778421074164)"
      ]
     },
     "execution_count": 151,
     "metadata": {},
     "output_type": "execute_result"
    }
   ],
   "source": [
    "# hydrogen molecule of the solvent molecule\n",
    "#six NH2 in the solvent \n",
    "\n",
    "hydrogen_center_masses_one = numpy.array([[ 4.637248, 0.030328, -1.597380, 1.007],\n",
    "[ 3.496976, -0.891178, -0.839436, 1.007],\n",
    "[ 4.712332, 0.402068, 0.868062, 1.007],\n",
    "[ 3.029777, 0.936647, 0.708189, 1.007],\n",
    "[ 4.318397, 1.859113, -0.063853, 1.007],])\n",
    "\n",
    "p2 = ndimage.measurements.center_of_mass(hydrogen_center_masses_one)\n",
    "p2"
   ]
  },
  {
   "cell_type": "code",
   "execution_count": 152,
   "metadata": {},
   "outputs": [
    {
     "data": {
      "text/plain": [
       "(2.3834169721259566, 1.7309342888677834)"
      ]
     },
     "execution_count": 152,
     "metadata": {},
     "output_type": "execute_result"
    }
   ],
   "source": [
    "# hydrogen molecule of the solvent molecule\n",
    "#six NH2 in the solvent \n",
    "\n",
    "hydrogen_center_masses_two = numpy.array([[ 0.586984, -0.221435, 1.276278, 1.007],\n",
    "[ -0.087802, 0.536023, 2.550265, 1.007],\n",
    "[ 1.314229, -1.332992, 3.345741, 1.007],\n",
    "[ 1.877725, 0.254093, 3.904347, 1.007],\n",
    "[ 2.658233, -0.520927, 2.530343, 1.007]])\n",
    "\n",
    "p3 = ndimage.measurements.center_of_mass(hydrogen_center_masses_two)\n",
    "p3"
   ]
  },
  {
   "cell_type": "code",
   "execution_count": 153,
   "metadata": {},
   "outputs": [
    {
     "data": {
      "text/plain": [
       "(4.154663408224964, 8.791502125241411)"
      ]
     },
     "execution_count": 153,
     "metadata": {},
     "output_type": "execute_result"
    }
   ],
   "source": [
    "# hydrogen molecule of the solvent molecule\n",
    "#six NH2 in the solvent \n",
    "\n",
    "hydrogen_center_masses_three = numpy.array([[ -2.651799, 1.087622, -0.287496, 1.007],\n",
    "[ -3.365781, 2.548973, -0.287069, 1.007],\n",
    "[ -4.017085, 1.347637, 1.748980, 1.007],\n",
    "[ -2.999556, 2.762994, 2.115352, 1.007],\n",
    "[ -2.295803, 1.141213, 2.063899, 1.007]])\n",
    "\n",
    "p4 = ndimage.measurements.center_of_mass(hydrogen_center_masses_three)\n",
    "p4"
   ]
  },
  {
   "cell_type": "code",
   "execution_count": 154,
   "metadata": {},
   "outputs": [
    {
     "data": {
      "text/plain": [
       "(2.2685909384076686, 1.3453997422604909)"
      ]
     },
     "execution_count": 154,
     "metadata": {},
     "output_type": "execute_result"
    }
   ],
   "source": [
    "# hydrogen molecule of the solvent molecule\n",
    "#six NH2 in the solvent \n",
    "\n",
    "hydrogen_center_masses_four = numpy.array([[ 0.682838, 2.210747, 0.957945, 1.007],\n",
    "[ -0.674975, 2.654131, 0.154050, 1.007],\n",
    "[ 0.326037, 4.647677, 1.240115, 1.007],\n",
    "[ 0.342647, 4.757626, -0.527243, 1.007],\n",
    "[ 1.804589, 4.281439, 0.336654, 1.007]])\n",
    "\n",
    "p5 = ndimage.measurements.center_of_mass(hydrogen_center_masses_four)\n",
    "p5"
   ]
  },
  {
   "cell_type": "code",
   "execution_count": 155,
   "metadata": {},
   "outputs": [
    {
     "data": {
      "text/plain": [
       "(4.80002993766575, 0.6255485677848486)"
      ]
     },
     "execution_count": 155,
     "metadata": {},
     "output_type": "execute_result"
    }
   ],
   "source": [
    "# hydrogen molecule of the solvent molecule\n",
    "#six NH2 in the solvent \n",
    "\n",
    "hydrogen_center_masses_five = numpy.array([[ 2.503848, -3.237236, -1.288827, 1.007],\n",
    "[ 1.540398, -2.234961, -0.425329, 1.007],\n",
    "[ 2.080578, -4.244929, 0.912082, 1.007],\n",
    "[ 2.726259, -2.752455, 1.605731, 1.007],\n",
    "[ 3.788935, -3.817975, 0.688197, 1.007]])\n",
    "\n",
    "p6 = ndimage.measurements.center_of_mass(hydrogen_center_masses_five)\n",
    "p6"
   ]
  },
  {
   "cell_type": "code",
   "execution_count": 156,
   "metadata": {},
   "outputs": [
    {
     "data": {
      "text/plain": [
       "(-3.326800000187369, -2.701058670715047)"
      ]
     },
     "execution_count": 156,
     "metadata": {},
     "output_type": "execute_result"
    }
   ],
   "source": [
    "# hydrogen molecule of the solvent molecule\n",
    "#six NH2 in the solvent \n",
    "\n",
    "hydrogen_center_masses_six = numpy.array([[ 2.137797, 0.649276, -1.679256, 1.007],\n",
    "[ 0.893288, 1.689096, -1.131045, 1.007],\n",
    "[ 1.227326, 1.881150, -3.595990, 1.007],\n",
    "[ -0.392542, 1.303328, -3.149446, 1.007],\n",
    "[ 0.832093, 0.152267, -3.717495, 1.007]])\n",
    "\n",
    "p7 = ndimage.measurements.center_of_mass(hydrogen_center_masses_six)\n",
    "p7"
   ]
  },
  {
   "cell_type": "code",
   "execution_count": 157,
   "metadata": {},
   "outputs": [
    {
     "name": "stdout",
     "output_type": "stream",
     "text": [
      "3.914707927671118\n",
      "2.7681520929272687\n",
      "4.610103739759181\n",
      "3.158985660950355\n",
      "4.515378102712011\n",
      "9.246788651136804\n"
     ]
    }
   ],
   "source": [
    "# Distance between the center of mass of carbon atoms in the aromatic ring \n",
    "# and hydrogen molecule of the solvent molecule\n",
    "import math\n",
    "\n",
    "distance_one = math.sqrt( ((p1[0] - p2[0])**2) + ((p1[1] - p2[1])**2))\n",
    "distance_two = math.sqrt( ((p1[0] - p3[0])**2) + ((p1[1] - p3[1])**2))\n",
    "distance_three = math.sqrt( ((p1[0] - p4[0])**2) + ((p1[1] - p4[1])**2))\n",
    "distance_four = math.sqrt( ((p1[0] - p5[0])**2) + ((p1[1] - p5[1])**2))\n",
    "distance_five = math.sqrt( ((p1[0] - p6[0])**2) + ((p1[1] - p6[1])**2))\n",
    "distance_six = math.sqrt( ((p1[0] - p7[0])**2) + ((p1[1] - p7[1])**2))\n",
    "\n",
    "\n",
    "print(distance_one)\n",
    "print(distance_two)\n",
    "print(distance_three)\n",
    "print(distance_four)\n",
    "print(distance_five)\n",
    "print(distance_six)\n"
   ]
  },
  {
   "cell_type": "code",
   "execution_count": 158,
   "metadata": {},
   "outputs": [
    {
     "name": "stdout",
     "output_type": "stream",
     "text": [
      "Non - Proton Transfer Form\n"
     ]
    }
   ],
   "source": [
    "### isomer shortest distance < 2.58 Å are PT form\n",
    "###  isomer shortest distance > 2.58 Å are the non-PT forms\n",
    "\n",
    "shortest_distance = min(distance_one,distance_two,distance_three,distance_four,distance_five,distance_six)\n",
    "\n",
    "if shortest_distance <= 2.58:\n",
    "    print('Proton Transfer Form')\n",
    "else:\n",
    "    print('Non - Proton Transfer Form')"
   ]
  },
  {
   "cell_type": "code",
   "execution_count": null,
   "metadata": {},
   "outputs": [],
   "source": []
  }
 ],
 "metadata": {
  "kernelspec": {
   "display_name": "Python 3",
   "language": "python",
   "name": "python3"
  },
  "language_info": {
   "codemirror_mode": {
    "name": "ipython",
    "version": 3
   },
   "file_extension": ".py",
   "mimetype": "text/x-python",
   "name": "python",
   "nbconvert_exporter": "python",
   "pygments_lexer": "ipython3",
   "version": "3.7.3"
  }
 },
 "nbformat": 4,
 "nbformat_minor": 2
}
